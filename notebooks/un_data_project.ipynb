{
 "cells": [
  {
   "cell_type": "markdown",
   "id": "01f8c1d5",
   "metadata": {},
   "source": [
    "1. Create a `data` folder in your local project repository.  "
   ]
  },
  {
   "cell_type": "markdown",
   "id": "44a27f1b",
   "metadata": {},
   "source": [
    "2. Download these two CSV files and place them in the data folder:"
   ]
  },
  {
   "cell_type": "markdown",
   "id": "fa56896d",
   "metadata": {},
   "source": [
    "a.\tGross Domestic Product (GDP) per capita http://data.un.org/Data.aspx?d=WDI&f=Indicator_Code%3aNY.GDP.PCAP.PP.KD **DO NOT APPLY ANY FILTERS**\n",
    "     - rename the file to `gdp_percapita.csv`\n",
    "     - open it with a text editor (**not excel**) and take a look"
   ]
  },
  {
   "cell_type": "markdown",
   "id": "4ea01499",
   "metadata": {},
   "source": [
    " b.\tPercentage of Individuals using the Internet http://data.un.org/Data.aspx?d=ITU&f=ind1Code%3aI99H  **DO NOT APPLY ANY FILTERS**\n",
    "     - rename the file to `internet_use.csv`\n",
    "     - open it with a text editor (**not excel**) and take a look"
   ]
  },
  {
   "cell_type": "markdown",
   "id": "9f72113c",
   "metadata": {},
   "source": [
    "2.\tCreate a `notebooks` folder and launch a Jupyter Notebook in the folder. Give it a meaningful name.  \n",
    "\n",
    "**IMPORTANT:**  You are likely to get errors along the way. When you do, read the errors to try to understand what is happening and how to correct it.\n",
    "\n",
    "Use markdown cells to record your answers to any questions asked in this exercise. On the menu bar, you can toggle the cell type from `Code` to `Markdown`."
   ]
  },
  {
   "cell_type": "markdown",
   "id": "0ae2248c",
   "metadata": {},
   "source": [
    "3.\tImport the required packages with their customary aliases:\n",
    "\n",
    "    `import pandas as pd`   \n",
    "    `import numpy as np`  \n",
    "    `import matplotlib.pyplot as plt`  \n",
    "    `import seaborn as sns`"
   ]
  },
  {
   "cell_type": "code",
   "execution_count": 1,
   "id": "bceaab62",
   "metadata": {},
   "outputs": [],
   "source": [
    "import pandas as pd\n",
    "import numpy as np\n",
    "import matplotlib.pyplot as plt\n",
    "import seaborn as sns"
   ]
  },
  {
   "cell_type": "markdown",
   "id": "17696c9e",
   "metadata": {},
   "source": [
    "4.\tUsing the pandas `read_csv()` method, read the GDP dataset into your notebook as a DataFrame called `gdp_df`. \n",
    "\n",
    "Take a look at the first few and last few rows to familiarize yourself with what is contained in this dataset."
   ]
  },
  {
   "cell_type": "code",
   "execution_count": 2,
   "id": "0564a351",
   "metadata": {},
   "outputs": [],
   "source": [
    "gdp_df = pd.read_csv('../data/gdp_percapita.csv')"
   ]
  },
  {
   "cell_type": "markdown",
   "id": "97726b49",
   "metadata": {},
   "source": [
    "5. How many rows and columns are in `gdp_df`? What are the data types of each column?"
   ]
  },
  {
   "cell_type": "code",
   "execution_count": 3,
   "id": "ceb897ef",
   "metadata": {},
   "outputs": [
    {
     "name": "stdout",
     "output_type": "stream",
     "text": [
      "<class 'pandas.core.frame.DataFrame'>\n",
      "RangeIndex: 7662 entries, 0 to 7661\n",
      "Data columns (total 4 columns):\n",
      " #   Column           Non-Null Count  Dtype  \n",
      "---  ------           --------------  -----  \n",
      " 0   Country or Area  7662 non-null   object \n",
      " 1   Year             7662 non-null   int64  \n",
      " 2   Value            7662 non-null   float64\n",
      " 3   Value Footnotes  0 non-null      float64\n",
      "dtypes: float64(2), int64(1), object(1)\n",
      "memory usage: 239.6+ KB\n"
     ]
    }
   ],
   "source": [
    "gdp_df.info()"
   ]
  },
  {
   "cell_type": "code",
   "execution_count": 4,
   "id": "cb5c0be9",
   "metadata": {},
   "outputs": [
    {
     "data": {
      "text/html": [
       "<div>\n",
       "<style scoped>\n",
       "    .dataframe tbody tr th:only-of-type {\n",
       "        vertical-align: middle;\n",
       "    }\n",
       "\n",
       "    .dataframe tbody tr th {\n",
       "        vertical-align: top;\n",
       "    }\n",
       "\n",
       "    .dataframe thead th {\n",
       "        text-align: right;\n",
       "    }\n",
       "</style>\n",
       "<table border=\"1\" class=\"dataframe\">\n",
       "  <thead>\n",
       "    <tr style=\"text-align: right;\">\n",
       "      <th></th>\n",
       "      <th>Country or Area</th>\n",
       "      <th>Year</th>\n",
       "      <th>Value</th>\n",
       "      <th>Value Footnotes</th>\n",
       "    </tr>\n",
       "  </thead>\n",
       "  <tbody>\n",
       "    <tr>\n",
       "      <th>0</th>\n",
       "      <td>Afghanistan</td>\n",
       "      <td>2021</td>\n",
       "      <td>1517.016266</td>\n",
       "      <td>NaN</td>\n",
       "    </tr>\n",
       "    <tr>\n",
       "      <th>1</th>\n",
       "      <td>Afghanistan</td>\n",
       "      <td>2020</td>\n",
       "      <td>1968.341002</td>\n",
       "      <td>NaN</td>\n",
       "    </tr>\n",
       "    <tr>\n",
       "      <th>2</th>\n",
       "      <td>Afghanistan</td>\n",
       "      <td>2019</td>\n",
       "      <td>2079.921861</td>\n",
       "      <td>NaN</td>\n",
       "    </tr>\n",
       "    <tr>\n",
       "      <th>3</th>\n",
       "      <td>Afghanistan</td>\n",
       "      <td>2018</td>\n",
       "      <td>2060.698973</td>\n",
       "      <td>NaN</td>\n",
       "    </tr>\n",
       "    <tr>\n",
       "      <th>4</th>\n",
       "      <td>Afghanistan</td>\n",
       "      <td>2017</td>\n",
       "      <td>2096.093111</td>\n",
       "      <td>NaN</td>\n",
       "    </tr>\n",
       "  </tbody>\n",
       "</table>\n",
       "</div>"
      ],
      "text/plain": [
       "  Country or Area  Year        Value  Value Footnotes\n",
       "0     Afghanistan  2021  1517.016266              NaN\n",
       "1     Afghanistan  2020  1968.341002              NaN\n",
       "2     Afghanistan  2019  2079.921861              NaN\n",
       "3     Afghanistan  2018  2060.698973              NaN\n",
       "4     Afghanistan  2017  2096.093111              NaN"
      ]
     },
     "execution_count": 4,
     "metadata": {},
     "output_type": "execute_result"
    }
   ],
   "source": [
    "gdp_df.head()"
   ]
  },
  {
   "cell_type": "markdown",
   "id": "942904f2",
   "metadata": {},
   "source": [
    "7662 rows x 4 columns\n",
    "\n",
    "Data types:\n",
    "- Country or Area: object\n",
    "- Year: int64\n",
    "- Value: float64\n",
    "- Value Footnotes: float64"
   ]
  },
  {
   "cell_type": "markdown",
   "id": "21a4d074",
   "metadata": {},
   "source": [
    "6. Drop the `Value Footnotes` column and rename the remaining three to 'Country', 'Year', and 'GDP_Per_Capita'."
   ]
  },
  {
   "cell_type": "code",
   "execution_count": 5,
   "id": "3c0044de",
   "metadata": {},
   "outputs": [],
   "source": [
    "del gdp_df['Value Footnotes']"
   ]
  },
  {
   "cell_type": "code",
   "execution_count": 6,
   "id": "f4fe9816",
   "metadata": {},
   "outputs": [],
   "source": [
    "gdp_df.columns = ['country', 'year', 'GDP_per_capita']"
   ]
  },
  {
   "cell_type": "code",
   "execution_count": 7,
   "id": "cd5292e0",
   "metadata": {},
   "outputs": [
    {
     "data": {
      "text/html": [
       "<div>\n",
       "<style scoped>\n",
       "    .dataframe tbody tr th:only-of-type {\n",
       "        vertical-align: middle;\n",
       "    }\n",
       "\n",
       "    .dataframe tbody tr th {\n",
       "        vertical-align: top;\n",
       "    }\n",
       "\n",
       "    .dataframe thead th {\n",
       "        text-align: right;\n",
       "    }\n",
       "</style>\n",
       "<table border=\"1\" class=\"dataframe\">\n",
       "  <thead>\n",
       "    <tr style=\"text-align: right;\">\n",
       "      <th></th>\n",
       "      <th>country</th>\n",
       "      <th>year</th>\n",
       "      <th>GDP_per_capita</th>\n",
       "    </tr>\n",
       "  </thead>\n",
       "  <tbody>\n",
       "    <tr>\n",
       "      <th>0</th>\n",
       "      <td>Afghanistan</td>\n",
       "      <td>2021</td>\n",
       "      <td>1517.016266</td>\n",
       "    </tr>\n",
       "    <tr>\n",
       "      <th>1</th>\n",
       "      <td>Afghanistan</td>\n",
       "      <td>2020</td>\n",
       "      <td>1968.341002</td>\n",
       "    </tr>\n",
       "    <tr>\n",
       "      <th>2</th>\n",
       "      <td>Afghanistan</td>\n",
       "      <td>2019</td>\n",
       "      <td>2079.921861</td>\n",
       "    </tr>\n",
       "    <tr>\n",
       "      <th>3</th>\n",
       "      <td>Afghanistan</td>\n",
       "      <td>2018</td>\n",
       "      <td>2060.698973</td>\n",
       "    </tr>\n",
       "    <tr>\n",
       "      <th>4</th>\n",
       "      <td>Afghanistan</td>\n",
       "      <td>2017</td>\n",
       "      <td>2096.093111</td>\n",
       "    </tr>\n",
       "  </tbody>\n",
       "</table>\n",
       "</div>"
      ],
      "text/plain": [
       "       country  year  GDP_per_capita\n",
       "0  Afghanistan  2021     1517.016266\n",
       "1  Afghanistan  2020     1968.341002\n",
       "2  Afghanistan  2019     2079.921861\n",
       "3  Afghanistan  2018     2060.698973\n",
       "4  Afghanistan  2017     2096.093111"
      ]
     },
     "execution_count": 7,
     "metadata": {},
     "output_type": "execute_result"
    }
   ],
   "source": [
    "gdp_df.head()"
   ]
  },
  {
   "cell_type": "markdown",
   "id": "41ecbd0b",
   "metadata": {},
   "source": [
    "7. How many countries have data for all years? Which countries are missing many years of data?"
   ]
  },
  {
   "cell_type": "code",
   "execution_count": 8,
   "id": "b438ac43",
   "metadata": {},
   "outputs": [
    {
     "data": {
      "text/plain": [
       "33"
      ]
     },
     "execution_count": 8,
     "metadata": {},
     "output_type": "execute_result"
    }
   ],
   "source": [
    "gdp_df[\"year\"].nunique()"
   ]
  },
  {
   "cell_type": "code",
   "execution_count": 9,
   "id": "43b3d0fc",
   "metadata": {},
   "outputs": [
    {
     "data": {
      "text/html": [
       "<div>\n",
       "<style scoped>\n",
       "    .dataframe tbody tr th:only-of-type {\n",
       "        vertical-align: middle;\n",
       "    }\n",
       "\n",
       "    .dataframe tbody tr th {\n",
       "        vertical-align: top;\n",
       "    }\n",
       "\n",
       "    .dataframe thead th {\n",
       "        text-align: right;\n",
       "    }\n",
       "</style>\n",
       "<table border=\"1\" class=\"dataframe\">\n",
       "  <thead>\n",
       "    <tr style=\"text-align: right;\">\n",
       "      <th></th>\n",
       "      <th>country</th>\n",
       "      <th>count</th>\n",
       "    </tr>\n",
       "  </thead>\n",
       "  <tbody>\n",
       "    <tr>\n",
       "      <th>0</th>\n",
       "      <td>Least developed countries: UN classification</td>\n",
       "      <td>33</td>\n",
       "    </tr>\n",
       "    <tr>\n",
       "      <th>1</th>\n",
       "      <td>Middle East &amp; North Africa</td>\n",
       "      <td>33</td>\n",
       "    </tr>\n",
       "    <tr>\n",
       "      <th>2</th>\n",
       "      <td>Middle East &amp; North Africa (IDA &amp; IBRD)</td>\n",
       "      <td>33</td>\n",
       "    </tr>\n",
       "    <tr>\n",
       "      <th>3</th>\n",
       "      <td>Middle income</td>\n",
       "      <td>33</td>\n",
       "    </tr>\n",
       "    <tr>\n",
       "      <th>4</th>\n",
       "      <td>Mongolia</td>\n",
       "      <td>33</td>\n",
       "    </tr>\n",
       "  </tbody>\n",
       "</table>\n",
       "</div>"
      ],
      "text/plain": [
       "                                        country  count\n",
       "0  Least developed countries: UN classification     33\n",
       "1                    Middle East & North Africa     33\n",
       "2       Middle East & North Africa (IDA & IBRD)     33\n",
       "3                                 Middle income     33\n",
       "4                                      Mongolia     33"
      ]
     },
     "execution_count": 9,
     "metadata": {},
     "output_type": "execute_result"
    }
   ],
   "source": [
    "all_years_count = gdp_df[\"country\"].value_counts().reset_index()\n",
    "all_years_count.head()"
   ]
  },
  {
   "cell_type": "code",
   "execution_count": 10,
   "id": "55f45234",
   "metadata": {},
   "outputs": [
    {
     "data": {
      "text/html": [
       "<div>\n",
       "<style scoped>\n",
       "    .dataframe tbody tr th:only-of-type {\n",
       "        vertical-align: middle;\n",
       "    }\n",
       "\n",
       "    .dataframe tbody tr th {\n",
       "        vertical-align: top;\n",
       "    }\n",
       "\n",
       "    .dataframe thead th {\n",
       "        text-align: right;\n",
       "    }\n",
       "</style>\n",
       "<table border=\"1\" class=\"dataframe\">\n",
       "  <thead>\n",
       "    <tr style=\"text-align: right;\">\n",
       "      <th></th>\n",
       "      <th>country</th>\n",
       "      <th>count</th>\n",
       "    </tr>\n",
       "  </thead>\n",
       "  <tbody>\n",
       "    <tr>\n",
       "      <th>202</th>\n",
       "      <td>Hungary</td>\n",
       "      <td>32</td>\n",
       "    </tr>\n",
       "    <tr>\n",
       "      <th>203</th>\n",
       "      <td>Lebanon</td>\n",
       "      <td>32</td>\n",
       "    </tr>\n",
       "    <tr>\n",
       "      <th>204</th>\n",
       "      <td>Aruba</td>\n",
       "      <td>32</td>\n",
       "    </tr>\n",
       "    <tr>\n",
       "      <th>205</th>\n",
       "      <td>Tonga</td>\n",
       "      <td>32</td>\n",
       "    </tr>\n",
       "    <tr>\n",
       "      <th>206</th>\n",
       "      <td>Bhutan</td>\n",
       "      <td>32</td>\n",
       "    </tr>\n",
       "  </tbody>\n",
       "</table>\n",
       "</div>"
      ],
      "text/plain": [
       "     country  count\n",
       "202  Hungary     32\n",
       "203  Lebanon     32\n",
       "204    Aruba     32\n",
       "205    Tonga     32\n",
       "206   Bhutan     32"
      ]
     },
     "execution_count": 10,
     "metadata": {},
     "output_type": "execute_result"
    }
   ],
   "source": [
    "incomplete_years = all_years_count[all_years_count[\"count\"]!= 33]\n",
    "incomplete_years.head()"
   ]
  },
  {
   "cell_type": "code",
   "execution_count": 11,
   "id": "8e5d70f9",
   "metadata": {},
   "outputs": [
    {
     "name": "stdout",
     "output_type": "stream",
     "text": [
      "<class 'pandas.core.frame.DataFrame'>\n",
      "Index: 40 entries, 202 to 241\n",
      "Data columns (total 2 columns):\n",
      " #   Column   Non-Null Count  Dtype \n",
      "---  ------   --------------  ----- \n",
      " 0   country  40 non-null     object\n",
      " 1   count    40 non-null     int64 \n",
      "dtypes: int64(1), object(1)\n",
      "memory usage: 960.0+ bytes\n"
     ]
    }
   ],
   "source": [
    "incomplete_years.info()"
   ]
  },
  {
   "cell_type": "markdown",
   "id": "b9183519",
   "metadata": {},
   "source": [
    "Look at the number of observations per year. What do you notice?"
   ]
  },
  {
   "cell_type": "code",
   "execution_count": 12,
   "id": "56178849",
   "metadata": {},
   "outputs": [
    {
     "name": "stdout",
     "output_type": "stream",
     "text": [
      "      country  GDP_per_capita\n",
      "year                         \n",
      "1990      207             207\n",
      "1991      208             208\n",
      "1992      210             210\n",
      "1993      211             211\n",
      "1994      213             213\n",
      "1995      223             223\n",
      "1996      223             223\n",
      "1997      226             226\n",
      "1998      226             226\n",
      "1999      227             227\n",
      "2000      233             233\n",
      "2001      234             234\n",
      "2002      235             235\n",
      "2003      235             235\n",
      "2004      236             236\n",
      "2005      236             236\n",
      "2006      237             237\n",
      "2007      237             237\n",
      "2008      238             238\n",
      "2009      239             239\n",
      "2010      239             239\n",
      "2011      240             240\n",
      "2012      240             240\n",
      "2013      242             242\n",
      "2014      242             242\n",
      "2015      242             242\n",
      "2016      242             242\n",
      "2017      242             242\n",
      "2018      242             242\n",
      "2019      242             242\n",
      "2020      242             242\n",
      "2021      241             241\n",
      "2022      232             232\n"
     ]
    }
   ],
   "source": [
    "observations_per_year = gdp_df.groupby(\"year\").agg(\"count\")\n",
    "print(observations_per_year)"
   ]
  },
  {
   "cell_type": "markdown",
   "id": "57db727e",
   "metadata": {},
   "source": [
    "The observations per year increase steadily from 1990 to 2020 and then decrease in the two final years observed in the dataset."
   ]
  },
  {
   "cell_type": "markdown",
   "id": "e8fff895",
   "metadata": {},
   "source": [
    "8. In this question, you're going to create some plots to show the distribution of GDP per capita for the year 2020. Go to the Python Graph Gallery (https://www.python-graph-gallery.com/) and look at the different types of plots under the Distribution section. Create a histogram, a density plot, a boxplot, and a violin plot. What do you notice when you look at these plots? How do the plots compare and what information can you get out of one type that you can't necessarily get out of the others?"
   ]
  },
  {
   "cell_type": "code",
   "execution_count": 13,
   "id": "14e955a1",
   "metadata": {},
   "outputs": [
    {
     "name": "stdout",
     "output_type": "stream",
     "text": [
      "                          country  year  GDP_per_capita\n",
      "1                     Afghanistan  2020     1968.341002\n",
      "22    Africa Eastern and Southern  2020     3455.023119\n",
      "55     Africa Western and Central  2020     3957.933804\n",
      "88                        Albania  2020    13278.369769\n",
      "121                       Algeria  2020    10844.770764\n",
      "...                           ...   ...             ...\n",
      "7503                     Viet Nam  2020    10450.622382\n",
      "7536           West Bank and Gaza  2020     5402.538773\n",
      "7565                        World  2020    16204.169107\n",
      "7598                       Zambia  2020     3183.650773\n",
      "7631                     Zimbabwe  2020     1990.319419\n",
      "\n",
      "[242 rows x 3 columns]\n"
     ]
    }
   ],
   "source": [
    "twenty_twenty = gdp_df[gdp_df[\"year\"]==2020]\n",
    "print(twenty_twenty)"
   ]
  },
  {
   "cell_type": "code",
   "execution_count": 14,
   "id": "ddc46a82",
   "metadata": {},
   "outputs": [],
   "source": [
    "del twenty_twenty[\"year\"]"
   ]
  },
  {
   "cell_type": "code",
   "execution_count": 15,
   "id": "2412454b",
   "metadata": {},
   "outputs": [
    {
     "data": {
      "text/html": [
       "<div>\n",
       "<style scoped>\n",
       "    .dataframe tbody tr th:only-of-type {\n",
       "        vertical-align: middle;\n",
       "    }\n",
       "\n",
       "    .dataframe tbody tr th {\n",
       "        vertical-align: top;\n",
       "    }\n",
       "\n",
       "    .dataframe thead th {\n",
       "        text-align: right;\n",
       "    }\n",
       "</style>\n",
       "<table border=\"1\" class=\"dataframe\">\n",
       "  <thead>\n",
       "    <tr style=\"text-align: right;\">\n",
       "      <th></th>\n",
       "      <th>country</th>\n",
       "      <th>GDP_per_capita</th>\n",
       "    </tr>\n",
       "  </thead>\n",
       "  <tbody>\n",
       "    <tr>\n",
       "      <th>1</th>\n",
       "      <td>Afghanistan</td>\n",
       "      <td>1968.341002</td>\n",
       "    </tr>\n",
       "    <tr>\n",
       "      <th>22</th>\n",
       "      <td>Africa Eastern and Southern</td>\n",
       "      <td>3455.023119</td>\n",
       "    </tr>\n",
       "    <tr>\n",
       "      <th>55</th>\n",
       "      <td>Africa Western and Central</td>\n",
       "      <td>3957.933804</td>\n",
       "    </tr>\n",
       "    <tr>\n",
       "      <th>88</th>\n",
       "      <td>Albania</td>\n",
       "      <td>13278.369769</td>\n",
       "    </tr>\n",
       "    <tr>\n",
       "      <th>121</th>\n",
       "      <td>Algeria</td>\n",
       "      <td>10844.770764</td>\n",
       "    </tr>\n",
       "  </tbody>\n",
       "</table>\n",
       "</div>"
      ],
      "text/plain": [
       "                         country  GDP_per_capita\n",
       "1                    Afghanistan     1968.341002\n",
       "22   Africa Eastern and Southern     3455.023119\n",
       "55    Africa Western and Central     3957.933804\n",
       "88                       Albania    13278.369769\n",
       "121                      Algeria    10844.770764"
      ]
     },
     "execution_count": 15,
     "metadata": {},
     "output_type": "execute_result"
    }
   ],
   "source": [
    "twenty_twenty.head()"
   ]
  },
  {
   "cell_type": "markdown",
   "id": "05e009a9",
   "metadata": {},
   "source": [
    "Create a histogram, a density plot, a boxplot, and a violin plot. "
   ]
  },
  {
   "cell_type": "code",
   "execution_count": 16,
   "id": "012b810e",
   "metadata": {},
   "outputs": [
    {
     "data": {
      "text/plain": [
       "Text(0.5, 1.0, 'GDP Distribution in 2020')"
      ]
     },
     "execution_count": 16,
     "metadata": {},
     "output_type": "execute_result"
    },
    {
     "data": {
      "image/png": "[encoded data removed]",
      "text/plain": [
       "<Figure size 640x480 with 1 Axes>"
      ]
     },
     "metadata": {},
     "output_type": "display_data"
    }
   ],
   "source": [
    "x = twenty_twenty[\"GDP_per_capita\"]\n",
    "plt.hist(x, bins =\"auto\")\n",
    "plt.title(\"GDP Distribution in 2020\")"
   ]
  },
  {
   "cell_type": "code",
   "execution_count": 17,
   "id": "a4ee7dd8",
   "metadata": {},
   "outputs": [
    {
     "data": {
      "text/plain": [
       "Text(0.5, 1.0, 'GDP Distribution in 2020')"
      ]
     },
     "execution_count": 17,
     "metadata": {},
     "output_type": "execute_result"
    },
    {
     "data": {
      "image/png": "[encoded data removed]",
      "text/plain": [
       "<Figure size 640x480 with 1 Axes>"
      ]
     },
     "metadata": {},
     "output_type": "display_data"
    }
   ],
   "source": [
    "sns.kdeplot(twenty_twenty)\n",
    "plt.title(\"GDP Distribution in 2020\")"
   ]
  },
  {
   "cell_type": "code",
   "execution_count": 18,
   "id": "c66f3de6",
   "metadata": {},
   "outputs": [
    {
     "data": {
      "text/plain": [
       "<Axes: >"
      ]
     },
     "execution_count": 18,
     "metadata": {},
     "output_type": "execute_result"
    },
    {
     "data": {
      "image/png": "[encoded data removed]",
      "text/plain": [
       "<Figure size 640x480 with 1 Axes>"
      ]
     },
     "metadata": {},
     "output_type": "display_data"
    }
   ],
   "source": [
    "x = twenty_twenty[\"GDP_per_capita\"]\n",
    "y = twenty_twenty[\"GDP_per_capita\"].value_counts()\n",
    "sns.violinplot()"
   ]
  },
  {
   "cell_type": "markdown",
   "id": "cc6135a7",
   "metadata": {},
   "source": [
    "9. What was the median GDP per capita value in 2020?"
   ]
  },
  {
   "cell_type": "code",
   "execution_count": 19,
   "id": "7343fe23",
   "metadata": {},
   "outputs": [
    {
     "data": {
      "text/plain": [
       "13357.997573370474"
      ]
     },
     "execution_count": 19,
     "metadata": {},
     "output_type": "execute_result"
    }
   ],
   "source": [
    "twenty_twenty[\"GDP_per_capita\"].median()"
   ]
  },
  {
   "cell_type": "markdown",
   "id": "d4c09edc",
   "metadata": {},
   "source": [
    "10. For this question, you're going to create some visualizations to compare GDP per capita values for the years 1990, 2000, 2010, and 2020. Start by subsetting your data to just these 4 years into a new DataFrame named gdp_decades. Using this, create the following 4 plots:\n",
    "\t* A boxplot\n",
    "\t* A barplot (check out the Barplot with Seaborn section: https://www.python-graph-gallery.com/barplot/#Seaborn)\n",
    "\t* A scatterplot\n",
    "\t* A scatterplot with a trend line overlaid (see this regplot example: https://www.python-graph-gallery.com/42-custom-linear-regression-fit-seaborn)  \n",
    "Comment on what you observe has happened to GDP values over time and the relative strengths and weaknesses of each type of plot."
   ]
  },
  {
   "cell_type": "code",
   "execution_count": 20,
   "id": "b3139842",
   "metadata": {},
   "outputs": [
    {
     "ename": "AttributeError",
     "evalue": "'RangeIndex' object has no attribute 'year'",
     "output_type": "error",
     "traceback": [
      "\u001b[1;31m---------------------------------------------------------------------------\u001b[0m",
      "\u001b[1;31mAttributeError\u001b[0m                            Traceback (most recent call last)",
      "Cell \u001b[1;32mIn[20], line 1\u001b[0m\n\u001b[1;32m----> 1\u001b[0m gdp_df\u001b[38;5;241m.\u001b[39mgroupby(gdp_df\u001b[38;5;241m.\u001b[39mindex\u001b[38;5;241m.\u001b[39myear)\u001b[38;5;241m.\u001b[39msum()\u001b[38;5;241m.\u001b[39mhead()\n",
      "\u001b[1;31mAttributeError\u001b[0m: 'RangeIndex' object has no attribute 'year'"
     ]
    }
   ],
   "source": [
    "gdp_df.groupby(gdp_df.index.year).sum().head()"
   ]
  },
  {
   "cell_type": "markdown",
   "id": "f069654b",
   "metadata": {},
   "source": [
    "11. Which country was the first to have a GDP per capita greater than $100,000?\n"
   ]
  },
  {
   "cell_type": "markdown",
   "id": "648d0e53",
   "metadata": {},
   "source": [
    "12. Which country had the highest GDP per capita in 2020? Create a plot showing how this country's GDP per capita has changed over the timespan of the dataset.\n"
   ]
  },
  {
   "cell_type": "markdown",
   "id": "6efcb387",
   "metadata": {},
   "source": [
    "13. Which country had the lowest GDP per capita in 2020? Create a plot showing how this country's GDP per capita has changed over the timespan of the dataset. **Bonus question:** Is it true in general that coutries had a higher GDP per capita in 2020 than in 1990? Which countries had lower GDP per capita in 2020 than in 1990?\n"
   ]
  },
  {
   "cell_type": "markdown",
   "id": "953a302f",
   "metadata": {},
   "source": [
    "14. Read in the internet use dataset into a DataFrame named `internet_df`. You will likely get errors when doing this. Check the arguments for the read_csv function to find ones that can help correct the errors (https://pandas.pydata.org/docs/reference/api/pandas.read_csv.html) Once you are able to read it in, take per a look at the top and bottom few rows to make sure that it has been read in correctly. Also, check the datatypes of the columns.\n"
   ]
  },
  {
   "cell_type": "markdown",
   "id": "40ac4a54",
   "metadata": {},
   "source": [
    "15. Drop the `Value Footnotes` column and rename the remaining three to 'Country', 'Year', and 'Internet_Users_Pct'.\n"
   ]
  },
  {
   "cell_type": "markdown",
   "id": "3c8e637e",
   "metadata": {},
   "source": [
    "16. Look at the number of observations in this dataset per year. What do you notice?\n"
   ]
  },
  {
   "cell_type": "markdown",
   "id": "97cb3bb2",
   "metadata": {},
   "source": [
    "17. What is the first year to have a non-zero internet users percentage value?\n"
   ]
  },
  {
   "cell_type": "markdown",
   "id": "59f201bc",
   "metadata": {},
   "source": [
    "18. How does the distribution of internet users percent differ for 2000 and 2014?\n"
   ]
  },
  {
   "cell_type": "markdown",
   "id": "5a1bba13",
   "metadata": {},
   "source": [
    "19. For how many countries was the percentage of internet users below 5% in 2014?\n"
   ]
  },
  {
   "cell_type": "markdown",
   "id": "74cae274",
   "metadata": {},
   "source": [
    "20. Merge the two DataFrames to one. Do this in a way that keeps **all rows** from each of the two DataFrames. Call the new DataFrame `gdp_and_internet_use`. Look at the first and last few rows to confirm that it merged correctly.\n"
   ]
  },
  {
   "cell_type": "markdown",
   "id": "932c7a3f",
   "metadata": {},
   "source": [
    "21. Find the three countries with the highest internet users percentage in 2014. Use a seaborn FacetGrid (https://seaborn.pydata.org/generated/seaborn.FacetGrid.html) to compare how the GDP per capita has changed over time for these three countries. What do you notice?\n"
   ]
  },
  {
   "cell_type": "markdown",
   "id": "66e43a27",
   "metadata": {},
   "source": [
    "22. Subset `gdp_and_internet_use` to just the year 2014. Save this as a new dataframe named `gdp_and_internet_use_2014`.\n"
   ]
  },
  {
   "cell_type": "markdown",
   "id": "dcefe499",
   "metadata": {},
   "source": [
    "23. Create a plot which compares Internet Users Percentage and GDP per Capita for the year 2014. What do you notice from this plot? If you see any unusual points, investigate them.\n"
   ]
  },
  {
   "cell_type": "markdown",
   "id": "53995bfc",
   "metadata": {},
   "source": [
    "24. **Stretch Question:** Use the `qcut` function from pandas (https://pandas.pydata.org/docs/reference/api/pandas.qcut.html) to divide countries in `gdp_per_capita_2014` into three groups based on their GDP per capita values. Label these groups as \"Low\", \"Medium\", and \"High\". Put these labels in a new column, named \"GDP_group\".\n"
   ]
  },
  {
   "cell_type": "markdown",
   "id": "64e16463",
   "metadata": {},
   "source": [
    "25. **Stretch Question:** How does the median internet users percentage compare for the three gdp groups?\n"
   ]
  },
  {
   "cell_type": "markdown",
   "id": "9c77a63c",
   "metadata": {},
   "source": [
    "### Bonus exercise:\n",
    "1.    Download another data set from the UN data (http://data.un.org/Explorer.aspx) to merge with your data and explore."
   ]
  },
  {
   "cell_type": "code",
   "execution_count": null,
   "id": "2e1859c5",
   "metadata": {},
   "outputs": [],
   "source": []
  }
 ],
 "metadata": {
  "kernelspec": {
   "display_name": "Python 3 (ipykernel)",
   "language": "python",
   "name": "python3"
  },
  "language_info": {
   "codemirror_mode": {
    "name": "ipython",
    "version": 3
   },
   "file_extension": ".py",
   "mimetype": "text/x-python",
   "name": "python",
   "nbconvert_exporter": "python",
   "pygments_lexer": "ipython3",
   "version": "3.11.5"
  }
 },
 "nbformat": 4,
 "nbformat_minor": 5
}
